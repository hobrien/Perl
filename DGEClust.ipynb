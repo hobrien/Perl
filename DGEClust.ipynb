{
 "cells": [
  {
   "cell_type": "markdown",
   "metadata": {},
   "source": [
    "Following the instructions at http://dvav.me/dgeclust/docs/tutorial"
   ]
  },
  {
   "cell_type": "code",
   "execution_count": 1,
   "metadata": {
    "collapsed": false
   },
   "outputs": [],
   "source": [
    "import numpy as np\n",
    "import pandas as pd\n",
    "import matplotlib.pylab as pl\n",
    "import os"
   ]
  },
  {
   "cell_type": "code",
   "execution_count": 3,
   "metadata": {
    "collapsed": true
   },
   "outputs": [],
   "source": [
    "from inspect import getsourcefile\n",
    "from dgeclust import CountData, SimulationManager"
   ]
  },
  {
   "cell_type": "code",
   "execution_count": 5,
   "metadata": {
    "collapsed": false
   },
   "outputs": [
    {
     "data": {
      "text/plain": [
       "'/Users/HeathOBrien/anaconda/lib/python2.7/site-packages/dgeclust/data.py'"
      ]
     },
     "execution_count": 5,
     "metadata": {},
     "output_type": "execute_result"
    }
   ],
   "source": [
    "getsourcefile(CountData)"
   ]
  },
  {
   "cell_type": "code",
   "execution_count": 2,
   "metadata": {
    "collapsed": true
   },
   "outputs": [],
   "source": [
    "os.chdir('/Users/HeathOBrien/Bioinformatics/Selaginella_DGE/DGEclust')"
   ]
  },
  {
   "cell_type": "code",
   "execution_count": 3,
   "metadata": {
    "collapsed": false
   },
   "outputs": [
    {
     "data": {
      "text/html": [
       "<div style=\"max-height:1000px;max-width:1500px;overflow:auto;\">\n",
       "<table border=\"1\" class=\"dataframe\">\n",
       "  <thead>\n",
       "    <tr style=\"text-align: right;\">\n",
       "      <th></th>\n",
       "      <th>treated1fb</th>\n",
       "      <th>treated2fb</th>\n",
       "      <th>treated3fb</th>\n",
       "      <th>untreated1fb</th>\n",
       "      <th>untreated2fb</th>\n",
       "      <th>untreated3fb</th>\n",
       "      <th>untreated4fb</th>\n",
       "    </tr>\n",
       "  </thead>\n",
       "  <tbody>\n",
       "    <tr>\n",
       "      <th>FBgn0000008</th>\n",
       "      <td>78</td>\n",
       "      <td>46</td>\n",
       "      <td>43</td>\n",
       "      <td>47</td>\n",
       "      <td>89</td>\n",
       "      <td>53</td>\n",
       "      <td>27</td>\n",
       "    </tr>\n",
       "    <tr>\n",
       "      <th>FBgn0000017</th>\n",
       "      <td>3187</td>\n",
       "      <td>1672</td>\n",
       "      <td>1859</td>\n",
       "      <td>2445</td>\n",
       "      <td>4615</td>\n",
       "      <td>2063</td>\n",
       "      <td>1711</td>\n",
       "    </tr>\n",
       "    <tr>\n",
       "      <th>FBgn0000018</th>\n",
       "      <td>369</td>\n",
       "      <td>150</td>\n",
       "      <td>176</td>\n",
       "      <td>288</td>\n",
       "      <td>383</td>\n",
       "      <td>135</td>\n",
       "      <td>174</td>\n",
       "    </tr>\n",
       "    <tr>\n",
       "      <th>FBgn0000024</th>\n",
       "      <td>4</td>\n",
       "      <td>5</td>\n",
       "      <td>3</td>\n",
       "      <td>4</td>\n",
       "      <td>7</td>\n",
       "      <td>1</td>\n",
       "      <td>0</td>\n",
       "    </tr>\n",
       "    <tr>\n",
       "      <th>FBgn0000032</th>\n",
       "      <td>942</td>\n",
       "      <td>465</td>\n",
       "      <td>536</td>\n",
       "      <td>767</td>\n",
       "      <td>956</td>\n",
       "      <td>464</td>\n",
       "      <td>471</td>\n",
       "    </tr>\n",
       "  </tbody>\n",
       "</table>\n",
       "</div>"
      ],
      "text/plain": [
       "             treated1fb  treated2fb  treated3fb  untreated1fb  untreated2fb  \\\n",
       "FBgn0000008          78          46          43            47            89   \n",
       "FBgn0000017        3187        1672        1859          2445          4615   \n",
       "FBgn0000018         369         150         176           288           383   \n",
       "FBgn0000024           4           5           3             4             7   \n",
       "FBgn0000032         942         465         536           767           956   \n",
       "\n",
       "             untreated3fb  untreated4fb  \n",
       "FBgn0000008            53            27  \n",
       "FBgn0000017          2063          1711  \n",
       "FBgn0000018           135           174  \n",
       "FBgn0000024             1             0  \n",
       "FBgn0000032           464           471  "
      ]
     },
     "execution_count": 3,
     "metadata": {},
     "output_type": "execute_result"
    }
   ],
   "source": [
    "#counts = pd.read_table('/Users/HeathOBrien/Bioinformatics/Selaginella_DGE/Corset/KRAUScount_totals.txt')\n",
    "counts = pd.read_table('/Users/HeathOBrien/Bioinformatics/Selaginella_DGE/Scripts/test_data.txt')\n",
    "row_sums = counts.sum(1)\n",
    "idxs = row_sums > np.percentile(row_sums, 40)   # identifies the upper 60% of the data\n",
    "counts_filt = counts[idxs]  \n",
    "counts_filt.head()    # inspect the data"
   ]
  },
  {
   "cell_type": "code",
   "execution_count": 4,
   "metadata": {
    "collapsed": false
   },
   "outputs": [
    {
     "name": "stdout",
     "output_type": "stream",
     "text": [
      "14470\n",
      "8647\n"
     ]
    }
   ],
   "source": [
    "print len(counts)\n",
    "print len(counts_filt)"
   ]
  },
  {
   "cell_type": "code",
   "execution_count": 6,
   "metadata": {
    "collapsed": false
   },
   "outputs": [
    {
     "name": "stdout",
     "output_type": "stream",
     "text": [
      "Starting job # 0 in a separate thread.\n"
     ]
    },
    {
     "name": "stderr",
     "output_type": "stream",
     "text": [
      "/Users/HeathOBrien/anaconda/lib/python2.7/site-packages/dgeclust/models/nbinom.py:303: RuntimeWarning: overflow encountered in exp\n",
      "  idxs = (logpost_ >= logpost) | (rn.rand(model.nfeatures) < np.exp(logpost_ - logpost))\n",
      "/Users/HeathOBrien/anaconda/lib/python2.7/site-packages/dgeclust/stats.py:250: RuntimeWarning: divide by zero encountered in log\n",
      "  lcp = np.log(1-v).cumsum()\n"
     ]
    }
   ],
   "source": [
    "from dgeclust import CountData, SimulationManager\n",
    "from dgeclust.models import NBinomModel\n",
    " \n",
    "mgr = SimulationManager()\n",
    "\n",
    "data = CountData(counts_filt)\n",
    "mdl = NBinomModel(data, outdir='sim_output5')\n",
    "\n",
    "mgr.new(data, mdl)"
   ]
  },
  {
   "cell_type": "code",
   "execution_count": 9,
   "metadata": {
    "collapsed": false
   },
   "outputs": [],
   "source": [
    "mdl.plot_progress(fig=pl.figure(figsize=(10,7)))\n",
    "pl.show()"
   ]
  },
  {
   "cell_type": "code",
   "execution_count": 40,
   "metadata": {
    "collapsed": false
   },
   "outputs": [
    {
     "name": "stdout",
     "output_type": "stream",
     "text": [
      "Starting job # 2 in a separate thread.\n"
     ]
    }
   ],
   "source": [
    "mdl = NBinomModel.load('sim_output')\n",
    "mgr.new(data, mdl, niters=5000)"
   ]
  },
  {
   "cell_type": "code",
   "execution_count": 11,
   "metadata": {
    "collapsed": false
   },
   "outputs": [],
   "source": [
    "mdl.plot_fitted_model('treated1fb', data)\n",
    "pl.show()"
   ]
  },
  {
   "cell_type": "code",
   "execution_count": 12,
   "metadata": {
    "collapsed": true
   },
   "outputs": [],
   "source": [
    "mdl.plot_clusters()\n",
    "pl.show()"
   ]
  },
  {
   "cell_type": "code",
   "execution_count": 13,
   "metadata": {
    "collapsed": true
   },
   "outputs": [],
   "source": []
  },
  {
   "cell_type": "code",
   "execution_count": null,
   "metadata": {
    "collapsed": true
   },
   "outputs": [],
   "source": []
  }
 ],
 "metadata": {
  "kernelspec": {
   "display_name": "Python 2",
   "language": "python",
   "name": "python2"
  },
  "language_info": {
   "codemirror_mode": {
    "name": "ipython",
    "version": 2
   },
   "file_extension": ".py",
   "mimetype": "text/x-python",
   "name": "python",
   "nbconvert_exporter": "python",
   "pygments_lexer": "ipython2",
   "version": "2.7.10"
  }
 },
 "nbformat": 4,
 "nbformat_minor": 0
}
